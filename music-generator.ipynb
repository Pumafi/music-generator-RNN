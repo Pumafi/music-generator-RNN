{
 "cells": [
  {
   "cell_type": "code",
   "execution_count": 1,
   "metadata": {},
   "outputs": [],
   "source": [
    "!pip3 install tensorflow > /dev/null 2>&1\n",
    "!pip3 install music21 > /dev/null 2>&1\n",
    "!pip3 install tqdm > /dev/null 2>&1\n",
    "\n",
    "import tensorflow as tf\n",
    "from tensorflow.keras.models import Model\n",
    "from tensorflow.keras.layers import Embedding, LSTM, Dense, Layer\n",
    "from tensorflow.keras import optimizers\n",
    "\n",
    "import numpy as np\n",
    "import os\n",
    "import matplotlib.pyplot as plt\n",
    "import re\n",
    "from music21 import converter, abcFormat, midi\n",
    "import time\n",
    "import functools\n",
    "from IPython import display as ipythondisplay\n",
    "from tqdm import tqdm\n",
    "import requests, zipfile, io\n",
    "\n",
    "!apt-get install abcmidi timidity timidity-interfaces-extra freepats > /dev/null 2>&1\n",
    "\n",
    "#assert len(tf.config.list_physical_devices('GPU')) > 0"
   ]
  },
  {
   "cell_type": "code",
   "execution_count": 2,
   "metadata": {},
   "outputs": [],
   "source": [
    "dataset = \"./nottingham_database/nottingham.abc\"\n",
    "\n",
    "# Download dat\n",
    "r = requests.get(\"http://ifdo.ca/~seymour/nottingham/nottingham_database.zip\")\n",
    "z = zipfile.ZipFile(io.BytesIO(r.content))\n",
    "z.extractall(\"./\")\n",
    "\n",
    "# Concatenate all musics in one file\n",
    "!cat ./nottingham_database/*.abc > dataset\n",
    "\n",
    "# Open and clean music files\n",
    "with open(dataset) as f:\n",
    "    musics_string = re.sub(r'(?m)^\\%.*\\n?', '', f.read())\n",
    "    musics_string = re.sub(r'(?m)^F: http.*\\n?', '', musics_string)\n",
    "    musics = re.split('\\n\\n+', musics_string)"
   ]
  },
  {
   "cell_type": "code",
   "execution_count": 21,
   "metadata": {},
   "outputs": [],
   "source": [
    "# Extract song snippet from text\n",
    "# NON-ORIGINAL FUNCTION\n",
    "# Comes from mitdeeplearning library\n",
    "# \n",
    "def extract_song_snippet(text):\n",
    "    pattern = '\\n\\n(.*?)\\n\\n'\n",
    "    search_results = re.findall(pattern, text, flags=re.DOTALL)\n",
    "    songs = [song for song in search_results]\n",
    "    print(\"Found {} songs in text\".format(len(songs)))\n",
    "    return songs"
   ]
  },
  {
   "cell_type": "code",
   "execution_count": 4,
   "metadata": {},
   "outputs": [
    {
     "name": "stdout",
     "output_type": "stream",
     "text": [
      "92\n"
     ]
    }
   ],
   "source": [
    "# Create function to vectorize the music\n",
    "\n",
    "musical_alphabet = sorted(set(musics_string))\n",
    "print(len(musical_alphabet))\n",
    "\n",
    "char_to_scal =  {u:i for i, u in enumerate(musical_alphabet)}\n",
    "scal_to_char = list(musical_alphabet)\n",
    "\n",
    "def vectorize_string(string):\n",
    "    return np.array([char_to_scal[c] for c in string])\n",
    "\n",
    "vectorized_songs = vectorize_string(musics_string)"
   ]
  },
  {
   "cell_type": "code",
   "execution_count": 5,
   "metadata": {},
   "outputs": [],
   "source": [
    "# Generate a random batch\n",
    "\n",
    "def make_random_batch(seq_len = 5, batch_size = 1):\n",
    "    inputs = [vectorized_songs[i:i + seq_len] for i in range(len(musics_string) - seq_len)]\n",
    "    outputs = [vectorized_songs[i:i + seq_len] for i in range(1, len(musics_string) - seq_len + 1)]\n",
    "    batch_indexes = np.random.choice(len(inputs), batch_size)\n",
    "    batch_input = np.reshape([inputs[i] for i in batch_indexes], [batch_size, seq_len])\n",
    "    batch_output = np.reshape([outputs[i] for i in batch_indexes], [batch_size, seq_len])\n",
    "    return batch_input, batch_output\n",
    "\n",
    "batch_input, batch_output = make_random_batch()"
   ]
  },
  {
   "cell_type": "code",
   "execution_count": 6,
   "metadata": {},
   "outputs": [
    {
     "name": "stdout",
     "output_type": "stream",
     "text": [
      "[[14 17  1 65 14]]\n",
      "[[17  1 65 14 19]]\n"
     ]
    }
   ],
   "source": [
    "print(batch_input[:5])\n",
    "print(batch_output[:5])"
   ]
  },
  {
   "cell_type": "code",
   "execution_count": 7,
   "metadata": {},
   "outputs": [],
   "source": [
    "# Music generator model\n",
    "# Uses an embedding layer, followed by an LSTM layers and finally a Dense layer\n",
    "class musicGenRNN(Model):\n",
    "    def __init__(self, musical_alphabet_size, embedding_dim, rnn_units, batch_size):\n",
    "        super().__init__()\n",
    "        \n",
    "        self.embedding = Embedding(musical_alphabet_size, embedding_dim, batch_input_shape=[batch_size, None])\n",
    "        self.lstm = LSTM(rnn_units,\n",
    "                         return_sequences=True,\n",
    "                         recurrent_initializer='glorot_uniform',\n",
    "                         recurrent_activation='sigmoid',\n",
    "                         stateful=True)\n",
    "        self.predict_layer = Dense(musical_alphabet_size)\n",
    "        \n",
    "    def call(self, inputs):\n",
    "        x = self.embedding(inputs)\n",
    "        x = self.lstm(x)\n",
    "        y = self.predict_layer(x)\n",
    "        return y"
   ]
  },
  {
   "cell_type": "code",
   "execution_count": 12,
   "metadata": {},
   "outputs": [],
   "source": [
    "# Model parameters and hyper-parameters\n",
    "\n",
    "input_shape = [len(musical_alphabet)]\n",
    "num_training_iterations = 2000 \n",
    "batch_size = 10\n",
    "seq_length = 100\n",
    "learning_rate = 1e-3 \n",
    "\n",
    "musical_alphabet_size = len(musical_alphabet)\n",
    "embedding_dim = 256 \n",
    "rnn_units = 1024\n",
    "\n",
    "# Checkpoint location: \n",
    "checkpoint_dir = './training_checkpoints'\n",
    "checkpoint_prefix = os.path.join(checkpoint_dir, \"my_ckpt\")"
   ]
  },
  {
   "cell_type": "code",
   "execution_count": 13,
   "metadata": {},
   "outputs": [],
   "source": [
    "# Optimizer and Loss function \n",
    "\n",
    "def compute_loss(labels, logits):\n",
    "    loss = tf.keras.losses.sparse_categorical_crossentropy(labels, logits, from_logits=True)\n",
    "    return loss\n",
    "\n",
    "optimizer = tf.keras.optimizers.Adam(learning_rate)"
   ]
  },
  {
   "cell_type": "code",
   "execution_count": 14,
   "metadata": {},
   "outputs": [
    {
     "name": "stdout",
     "output_type": "stream",
     "text": [
      "Model: \"music_gen_rnn_1\"\n",
      "_________________________________________________________________\n",
      "Layer (type)                 Output Shape              Param #   \n",
      "=================================================================\n",
      "embedding_1 (Embedding)      multiple                  23552     \n",
      "_________________________________________________________________\n",
      "lstm_1 (LSTM)                multiple                  5246976   \n",
      "_________________________________________________________________\n",
      "dense_1 (Dense)              multiple                  94300     \n",
      "=================================================================\n",
      "Total params: 5,364,828\n",
      "Trainable params: 5,364,828\n",
      "Non-trainable params: 0\n",
      "_________________________________________________________________\n"
     ]
    }
   ],
   "source": [
    "# Build the model\n",
    "\n",
    "music_gen_rnn = musicGenRNN(musical_alphabet_size, embedding_dim, rnn_units, batch_size)\n",
    "music_gen_rnn.build((batch_size, *input_shape))\n",
    "music_gen_rnn.summary()"
   ]
  },
  {
   "cell_type": "code",
   "execution_count": 15,
   "metadata": {},
   "outputs": [
    {
     "name": "stderr",
     "output_type": "stream",
     "text": [
      "  1%|          | 6/500 [00:12<17:21,  2.11s/it]\n",
      "\n",
      "KeyboardInterrupt\n",
      "\n"
     ]
    },
    {
     "data": {
      "image/png": "[encoded data removed]",
      "text/plain": [
       "<Figure size 432x288 with 1 Axes>"
      ]
     },
     "metadata": {
      "image/png": {
       "height": 248,
       "width": 378
      },
      "needs_background": "light"
     },
     "output_type": "display_data"
    }
   ],
   "source": [
    "@tf.function\n",
    "def train_step(x, y):\n",
    "    with tf.GradientTape() as tape:\n",
    "\n",
    "        y_pred = music_gen_rnn(x)\n",
    "        loss = compute_loss(y, y_pred)\n",
    "        grads = tape.gradient(loss, music_gen_rnn.trainable_variables)\n",
    "\n",
    "        optimizer.apply_gradients(zip(grads, music_gen_rnn.trainable_variables))\n",
    "    return loss\n",
    "\n",
    "history = []\n",
    "\n",
    "for iter in tqdm(range(num_training_iterations)):\n",
    "    x_batch, y_batch = make_random_batch(seq_length, batch_size)\n",
    "    loss = train_step(x_batch, y_batch)\n",
    "\n",
    "    history.append(loss.numpy().mean())\n",
    "    plt.plot(history)\n",
    "\n",
    "    if iter % 100 == 0:\n",
    "        music_gen_rnn.save_weights(checkpoint_prefix)\n",
    "    \n",
    "music_gen_rnn.save_weights(checkpoint_prefix)"
   ]
  },
  {
   "cell_type": "code",
   "execution_count": 16,
   "metadata": {},
   "outputs": [
    {
     "name": "stdout",
     "output_type": "stream",
     "text": [
      "Model: \"music_gen_rnn_2\"\n",
      "_________________________________________________________________\n",
      "Layer (type)                 Output Shape              Param #   \n",
      "=================================================================\n",
      "embedding_2 (Embedding)      multiple                  23552     \n",
      "_________________________________________________________________\n",
      "lstm_2 (LSTM)                multiple                  5246976   \n",
      "_________________________________________________________________\n",
      "dense_2 (Dense)              multiple                  94300     \n",
      "=================================================================\n",
      "Total params: 5,364,828\n",
      "Trainable params: 5,364,828\n",
      "Non-trainable params: 0\n",
      "_________________________________________________________________\n"
     ]
    }
   ],
   "source": [
    "# Model for Generation\n",
    "music_gen_rnn = musicGenRNN(len(musical_alphabet), embedding_dim=256, rnn_units=1024, batch_size=1)\n",
    "music_gen_rnn.build((1, *input_shape))\n",
    "\n",
    "# Chekpoint loading\n",
    "music_gen_rnn.load_weights(tf.train.latest_checkpoint(checkpoint_dir))\n",
    "music_gen_rnn.build(tf.TensorShape([1, None]))\n",
    "\n",
    "music_gen_rnn.summary()"
   ]
  },
  {
   "cell_type": "code",
   "execution_count": 17,
   "metadata": {},
   "outputs": [],
   "source": [
    "def predict_new_music(model, start_string, music_length):\n",
    "    vectorised_input = np.array([char_to_scal[c] for c  in start_string])\n",
    "    text_generated = []\n",
    "    \n",
    "    model.reset_states()\n",
    "    \n",
    "    vectorised_input = tf.expand_dims(vectorised_input, 0)\n",
    "    \n",
    "    for i in range(music_length):\n",
    "        y_pred = model(vectorised_input)\n",
    "        y_pred = tf.squeeze(y_pred, 0)\n",
    "        y_id = tf.random.categorical(y_pred, 1)[-1,0].numpy()\n",
    "        vectorised_input = tf.expand_dims([y_id], 0)\n",
    "        text_generated.append(scal_to_char[y_id])\n",
    "    \n",
    "    return (start_string + ''.join(text_generated))"
   ]
  },
  {
   "cell_type": "code",
   "execution_count": 22,
   "metadata": {},
   "outputs": [
    {
     "name": "stdout",
     "output_type": "stream",
     "text": [
      "Found 0 songs in text\n"
     ]
    }
   ],
   "source": [
    "musics_generated = predict_new_music(music_gen_rnn, 'X:', 1000)\n",
    "music = extract_song_snippet(musics_generated)"
   ]
  },
  {
   "cell_type": "code",
   "execution_count": null,
   "metadata": {},
   "outputs": [],
   "source": [
    "# Play test music\n",
    "abcScore = converter.parse(music)\n",
    "sp = midi.realtime.StreamPlayer(abcScore)\n",
    "sp.play()"
   ]
  }
 ],
 "metadata": {
  "kernelspec": {
   "display_name": "Python 3",
   "language": "python",
   "name": "python3"
  },
  "language_info": {
   "codemirror_mode": {
    "name": "ipython",
    "version": 3
   },
   "file_extension": ".py",
   "mimetype": "text/x-python",
   "name": "python",
   "nbconvert_exporter": "python",
   "pygments_lexer": "ipython3",
   "version": "3.8.5"
  }
 },
 "nbformat": 4,
 "nbformat_minor": 4
}
